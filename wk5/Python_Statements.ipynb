{
 "cells": [
  {
   "cell_type": "markdown",
   "metadata": {},
   "source": [
    "# Ian Schlierf\n",
    "## wk5 09/22/2020\n",
    "### Python Statements[if,else,elif]"
   ]
  },
  {
   "cell_type": "markdown",
   "metadata": {},
   "source": [
    "if condition1:\n",
    "    perform action1\n",
    "elif case2:\n",
    "    action2\n",
    "else:\n",
    "    action3"
   ]
  },
  {
   "cell_type": "code",
   "execution_count": 1,
   "metadata": {},
   "outputs": [
    {
     "name": "stdout",
     "output_type": "stream",
     "text": [
      "hello\n"
     ]
    }
   ],
   "source": [
    "if True:\n",
    "    print('hello')"
   ]
  },
  {
   "cell_type": "code",
   "execution_count": 2,
   "metadata": {},
   "outputs": [],
   "source": [
    "if False:\n",
    "    print('hello')"
   ]
  },
  {
   "cell_type": "code",
   "execution_count": 1,
   "metadata": {},
   "outputs": [
    {
     "ename": "NameError",
     "evalue": "name 'value' is not defined",
     "output_type": "error",
     "traceback": [
      "\u001b[1;31m---------------------------------------------------------------------------\u001b[0m",
      "\u001b[1;31mNameError\u001b[0m                                 Traceback (most recent call last)",
      "\u001b[1;32m<ipython-input-1-fcaddd62598f>\u001b[0m in \u001b[0;36m<module>\u001b[1;34m\u001b[0m\n\u001b[1;32m----> 1\u001b[1;33m \u001b[0mvalue\u001b[0m\u001b[1;33m\u001b[0m\u001b[1;33m\u001b[0m\u001b[0m\n\u001b[0m",
      "\u001b[1;31mNameError\u001b[0m: name 'value' is not defined"
     ]
    }
   ],
   "source": [
    "value "
   ]
  },
  {
   "cell_type": "code",
   "execution_count": 3,
   "metadata": {},
   "outputs": [
    {
     "name": "stdout",
     "output_type": "stream",
     "text": [
      "Welcome to Colorado\n"
     ]
    }
   ],
   "source": [
    "s = 'Colorado'\n",
    "\n",
    "if s == 'Colorado':\n",
    "    print('Welcome to Colorado')\n",
    "elif s == \"Florida\":\n",
    "    print('Welcome to Florida')\n",
    "elif s == 'Alaska:':\n",
    "    print('Welcome to Alaska')\n",
    "else:\n",
    "    print(\"Where are you now?\")\n"
   ]
  },
  {
   "cell_type": "code",
   "execution_count": 4,
   "metadata": {},
   "outputs": [
    {
     "name": "stdout",
     "output_type": "stream",
     "text": [
      "both are true\n"
     ]
    }
   ],
   "source": [
    "#And\n",
    "s1 = 89\n",
    "s2 = 75\n",
    "s3 = 92\n",
    "\n",
    "if s1 > s2 and s3 > s2:\n",
    "    print(\"both are true\")"
   ]
  },
  {
   "cell_type": "code",
   "execution_count": 5,
   "metadata": {},
   "outputs": [
    {
     "name": "stdout",
     "output_type": "stream",
     "text": [
      "at least 1 condition is true\n"
     ]
    }
   ],
   "source": [
    "#or logical operators\n",
    "if s1 > s2 or s3 > s2:\n",
    "    print(\"at least 1 condition is true\")"
   ]
  },
  {
   "cell_type": "code",
   "execution_count": 8,
   "metadata": {},
   "outputs": [
    {
     "name": "stdout",
     "output_type": "stream",
     "text": [
      "above 40\n",
      "also above 60\n"
     ]
    }
   ],
   "source": [
    "#Nested if statement\n",
    "s1 = 80\n",
    "\n",
    "if s1 > 40:\n",
    "    print('above 40')\n",
    "    if s1 > 60:\n",
    "        print('also above 60')\n",
    "    else:\n",
    "        print('but not above 60')"
   ]
  },
  {
   "cell_type": "code",
   "execution_count": 9,
   "metadata": {},
   "outputs": [],
   "source": [
    "if s1 > 60:\n",
    "    pass"
   ]
  },
  {
   "cell_type": "code",
   "execution_count": null,
   "metadata": {},
   "outputs": [],
   "source": []
  }
 ],
 "metadata": {
  "kernelspec": {
   "display_name": "Python 3.7 - default",
   "language": "python",
   "name": "py37_default"
  }
 },
 "nbformat": 4,
 "nbformat_minor": 4
}
